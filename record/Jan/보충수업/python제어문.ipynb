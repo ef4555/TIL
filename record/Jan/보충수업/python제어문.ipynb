{
 "cells": [
  {
   "attachments": {},
   "cell_type": "markdown",
   "metadata": {},
   "source": [
    "## 코드 스타일 가이드\n",
    "\n",
    "1. 문자열 \"\" 또는 '' 중에 하나만 사용\n",
    "2. 들여쓰기 탭 또는 띄어쓰기 4칸\n",
    "\n",
    "vscode 사용자는 alt + shift + f "
   ]
  },
  {
   "attachments": {},
   "cell_type": "markdown",
   "metadata": {},
   "source": [
    "# 조건문\n",
    "\n",
    "1. if 키워드로 시작\n",
    "2. 결과가 참 또는 거짓 (True / False)인 조건식이 반드시 필요\n",
    "3. 들여쓰기를 통해 조건문에서 실행하고 싶은 코드를 분리해서 작성한다."
   ]
  },
  {
   "cell_type": "code",
   "execution_count": 2,
   "metadata": {},
   "outputs": [
    {
     "name": "stdout",
     "output_type": "stream",
     "text": [
      "5\n"
     ]
    }
   ],
   "source": [
    "a = 5\n",
    "\n",
    "# 정수를 True or False\n",
    "# False = 0 / 나머지는 True\n",
    "if a > 5:\n",
    "    print(\"5 초과\")\n",
    "    print(\"5 초과\")\n",
    "else:\n",
    "    print(\"5 이하\")\n",
    "\n",
    "# 조건문과 상관없는 코드\n",
    "print(a)"
   ]
  },
  {
   "cell_type": "code",
   "execution_count": 4,
   "metadata": {},
   "outputs": [],
   "source": [
    "a = 0\n",
    "\n",
    "if a:\n",
    "    print(\"이게 실행이 되냐?\")"
   ]
  },
  {
   "cell_type": "code",
   "execution_count": 6,
   "metadata": {},
   "outputs": [
    {
     "name": "stdout",
     "output_type": "stream",
     "text": [
      "홀수\n"
     ]
    }
   ],
   "source": [
    "\n",
    "num = int(input())\n",
    "\n",
    "# 조건식을 통해 짝수 / 홀수 판별\n",
    "# 2로 나누었을때 나머지가 0이다 ==> 짝수\n",
    "# 2로 나누었을때 나머지가 1이다 ==> 홀수\n",
    "if num % 2 == 0:\n",
    "    print(\"짝수\")\n",
    "else:\n",
    "    print(\"홀수\")"
   ]
  },
  {
   "cell_type": "code",
   "execution_count": 7,
   "metadata": {},
   "outputs": [
    {
     "name": "stdout",
     "output_type": "stream",
     "text": [
      "a는 5와 같다.\n"
     ]
    }
   ],
   "source": [
    "# 복수 조건문\n",
    "# if - elif - ... - else\n",
    "\n",
    "# 제일 먼저 만족하는 조건문을 실행하고 다른 코드는 실행하지 않는다.\n",
    "\n",
    "a = 5\n",
    "\n",
    "if a == 5:\n",
    "    print(\"a는 5와 같다.\")\n",
    "elif a > 1:\n",
    "    print(\"a는 1보다 크다\")\n",
    "else :\n",
    "    print(\"모두 아님\")"
   ]
  },
  {
   "cell_type": "code",
   "execution_count": 10,
   "metadata": {},
   "outputs": [
    {
     "name": "stdout",
     "output_type": "stream",
     "text": [
      "a는 5와 같다\n",
      "여기는 언제 실행이 될까요???\n",
      "여기는 조건문과 상관없는 실행코드\n"
     ]
    }
   ],
   "source": [
    "# 중첩 조건문\n",
    "# 조건문 안에 조건문이 있다.\n",
    "\n",
    "# 중첩 여부는 들여쓰기가 얼마나 되어있는지에 판단을 하면 된다.\n",
    "\n",
    "a = 5\n",
    "b = 10\n",
    "c = 20\n",
    "\n",
    "if a == 5:\n",
    "    print(\"a는 5와 같다\")\n",
    "    if b == 15:\n",
    "        print(\"b는 15와 같다\")\n",
    "        if c == 20:\n",
    "            print(\"c 는 20\")\n",
    "    print(\"여기는 언제 실행이 될까요???\")  # a == 5 의 실행문\n",
    "\n",
    "print(\"여기는 조건문과 상관없는 실행코드\")\n"
   ]
  },
  {
   "cell_type": "code",
   "execution_count": 1,
   "metadata": {},
   "outputs": [
    {
     "name": "stdout",
     "output_type": "stream",
     "text": [
      "0\n",
      "1\n",
      "2\n",
      "3\n",
      "4\n",
      "끝\n"
     ]
    }
   ],
   "source": [
    "# 반복문\n",
    "# 주어진 조건을 만족할 때까지 코드를 반복해서 실행한다.\n",
    "\n",
    "a = 0\n",
    "# a 가 5보다 작을 때까지 아래의 코드를 반복해서 실행하세요.\n",
    "while a < 5:\n",
    "    print(a)\n",
    "    # a 를 1씩 증가\n",
    "    a = a + 1\n",
    "\n",
    "print(\"끝\")"
   ]
  },
  {
   "cell_type": "code",
   "execution_count": 2,
   "metadata": {},
   "outputs": [
    {
     "name": "stdout",
     "output_type": "stream",
     "text": [
      "사과\n",
      "바나나\n",
      "딸기\n",
      "멜론\n",
      "포도\n"
     ]
    }
   ],
   "source": [
    "fruits = [\"사과\", \"바나나\" , \"딸기\" , \"멜론\", \"포도\"] \n",
    "# iterable 한 객체( 리스트, 튜플 ... )\n",
    "\n",
    "for fruit in fruits:\n",
    "    print(fruit)"
   ]
  },
  {
   "cell_type": "code",
   "execution_count": 3,
   "metadata": {},
   "outputs": [
    {
     "name": "stdout",
     "output_type": "stream",
     "text": [
      "a\n",
      "b\n",
      "c\n",
      "d\n",
      "e\n",
      "f\n",
      "g\n"
     ]
    }
   ],
   "source": [
    "my_string = \"abcdefg\"\n",
    "\n",
    "for c in my_string:\n",
    "    print(c)"
   ]
  },
  {
   "cell_type": "code",
   "execution_count": 5,
   "metadata": {},
   "outputs": [
    {
     "name": "stdout",
     "output_type": "stream",
     "text": [
      "[4, 16]\n"
     ]
    }
   ],
   "source": [
    "# 리스트 컴프리헨션\n",
    "# 한줄로 간단하게 리스트 생성하기\n",
    "\n",
    "my_list = [num*num for num in range(1,6)]\n",
    "\n",
    "# 짝수만 골라서 제곱 리스트\n",
    "\n",
    "my_list = [num*num for num in range(1,6) if num % 2 == 0]\n",
    "\n",
    "print(my_list)"
   ]
  },
  {
   "cell_type": "code",
   "execution_count": 7,
   "metadata": {},
   "outputs": [
    {
     "name": "stdout",
     "output_type": "stream",
     "text": [
      "{2: 4, 4: 16}\n"
     ]
    }
   ],
   "source": [
    "# 딕셔너리 컴프리헨션\n",
    "# 한줄로 간단하게 딕셔너리 만들기\n",
    "\n",
    "my_dict = {num: num * num for num in range(1, 6)}\n",
    "\n",
    "# 짝수만 골라서 만들기\n",
    "\n",
    "my_dict = {num: num * num for num in range(1, 6) if num % 2 == 0}\n",
    "\n",
    "print(my_dict)\n"
   ]
  },
  {
   "cell_type": "code",
   "execution_count": null,
   "metadata": {},
   "outputs": [],
   "source": [
    "if a == 5:\n",
    "    pass\n",
    "\n"
   ]
  }
 ],
 "metadata": {
  "kernelspec": {
   "display_name": "Python 3",
   "language": "python",
   "name": "python3"
  },
  "language_info": {
   "codemirror_mode": {
    "name": "ipython",
    "version": 3
   },
   "file_extension": ".py",
   "mimetype": "text/x-python",
   "name": "python",
   "nbconvert_exporter": "python",
   "pygments_lexer": "ipython3",
   "version": "3.11.1"
  },
  "orig_nbformat": 4,
  "vscode": {
   "interpreter": {
    "hash": "719d7831d19870063e330dda2d280f99c099d6e03609ad07b17f717f2336b29a"
   }
  }
 },
 "nbformat": 4,
 "nbformat_minor": 2
}

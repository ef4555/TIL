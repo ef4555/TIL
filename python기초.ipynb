{
 "cells": [
  {
   "cell_type": "code",
   "execution_count": 1,
   "metadata": {},
   "outputs": [
    {
     "name": "stdout",
     "output_type": "stream",
     "text": [
      "2000\n",
      "4000\n",
      "2000\n",
      "4000\n",
      "2500\n",
      "4500\n"
     ]
    }
   ],
   "source": [
    "# 아메리카노 한잔\n",
    "print(2000)\n",
    "\n",
    "# 아메리카노 + 쿠키\n",
    "print(2000 + 2000)\n",
    "\n",
    "americano = 2000\n",
    "cookie = 2000\n",
    "\n",
    "print(americano)\n",
    "\n",
    "print(americano + cookie)\n",
    "\n",
    "# 아메리카노의 가격이 500 원 상승\n",
    "\n",
    "americano = 2500 \n",
    "\n",
    "print(americano)\n",
    "\n",
    "print(americano + cookie)"
   ]
  },
  {
   "cell_type": "code",
   "execution_count": 3,
   "metadata": {},
   "outputs": [
    {
     "name": "stdout",
     "output_type": "stream",
     "text": [
      "20 10\n",
      "10 20\n"
     ]
    }
   ],
   "source": [
    "# 두개의 변수에 있는 값을 바꿀때\n",
    "x = 10\n",
    "y = 20\n",
    "\n",
    "# 다른 프로그래밍 언어에서 사용\n",
    "\n",
    "temp = x\n",
    "x = y\n",
    "y = temp\n",
    "\n",
    "print(x, y)\n",
    "\n",
    "# 파이썬 한정\n",
    "\n",
    "x ,y = y, x\n",
    "\n",
    "print(x, y)"
   ]
  },
  {
   "cell_type": "code",
   "execution_count": 7,
   "metadata": {},
   "outputs": [
    {
     "name": "stdout",
     "output_type": "stream",
     "text": [
      "10\n",
      "20\n"
     ]
    }
   ],
   "source": [
    "PERSON = 20\n",
    "\n",
    "person = 10\n",
    "\n",
    "print(person)\n",
    "print(PERSON)\n",
    "\n"
   ]
  },
  {
   "cell_type": "code",
   "execution_count": 13,
   "metadata": {},
   "outputs": [
    {
     "name": "stdout",
     "output_type": "stream",
     "text": [
      "출력\n"
     ]
    }
   ],
   "source": [
    "import builtins\n",
    "# print(\"출력이 되나?\")\n",
    "\n",
    "# builtins 모듈 사용\n",
    "print = builtins.print\n",
    "\n",
    "print(\"출력\")\n"
   ]
  },
  {
   "cell_type": "code",
   "execution_count": 15,
   "metadata": {},
   "outputs": [
    {
     "name": "stdout",
     "output_type": "stream",
     "text": [
      "나는 작은따옴표 안에 '작은따옴표' 쓰고싶어\n",
      "나는 두줄을 입력하고 싶다. \n",
      "나는 두줄을 입력하고 싶다.\n"
     ]
    }
   ],
   "source": [
    "str1 = '나는 작은따옴표 안에 \\'작은따옴표\\' 쓰고싶어'\n",
    "print(str1)\n",
    "\n",
    "str2 = \"나는 두줄을 입력하고 싶다. \\n나는 두줄을 입력하고 싶다.\"\n",
    "print(str2)"
   ]
  },
  {
   "cell_type": "code",
   "execution_count": 16,
   "metadata": {},
   "outputs": [
    {
     "name": "stdout",
     "output_type": "stream",
     "text": [
      "{'key': 'value'}\n"
     ]
    }
   ],
   "source": [
    "a = {}\n",
    "\n",
    "# 딕셔너리에 값 추가??\n",
    "\n",
    "# 딕셔너리의 키에 값 할당\n",
    "\n",
    "a[\"key\"] = \"value\"\n",
    "\n",
    "print(a)"
   ]
  },
  {
   "cell_type": "code",
   "execution_count": 19,
   "metadata": {},
   "outputs": [
    {
     "name": "stdout",
     "output_type": "stream",
     "text": [
      "33\n",
      "<class 'int'>\n",
      "33\n",
      "<class 'str'>\n"
     ]
    }
   ],
   "source": [
    "s = \"33\"\n",
    "\n",
    "i = int(s)\n",
    "print(i)\n",
    "print(type(i))\n",
    "\n",
    "s2 = str(i)\n",
    "print(s2)\n",
    "print(type(s2))"
   ]
  },
  {
   "attachments": {},
   "cell_type": "markdown",
   "metadata": {},
   "source": [
    "# 꼭 알아야 할것 (헷갈릴 만한 것들)\n",
    "\n",
    "1. 연산자\n",
    "2. boolean\n",
    "3. 단축평가"
   ]
  }
 ],
 "metadata": {
  "kernelspec": {
   "display_name": "Python 3",
   "language": "python",
   "name": "python3"
  },
  "language_info": {
   "codemirror_mode": {
    "name": "ipython",
    "version": 3
   },
   "file_extension": ".py",
   "mimetype": "text/x-python",
   "name": "python",
   "nbconvert_exporter": "python",
   "pygments_lexer": "ipython3",
   "version": "3.11.1"
  },
  "orig_nbformat": 4,
  "vscode": {
   "interpreter": {
    "hash": "719d7831d19870063e330dda2d280f99c099d6e03609ad07b17f717f2336b29a"
   }
  }
 },
 "nbformat": 4,
 "nbformat_minor": 2
}
